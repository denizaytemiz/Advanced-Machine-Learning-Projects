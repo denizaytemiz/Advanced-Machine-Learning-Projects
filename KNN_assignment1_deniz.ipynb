{
  "cells": [
    {
      "cell_type": "markdown",
      "metadata": {
        "id": "jox0V7S3XNUJ"
      },
      "source": [
        "# Programming assignment 1: KNN classifier\n",
        "\n",
        "In this programming exercise, we will build a KNN classifier and apply it to a handwritten digit dataset (MNIST). Please download the datasets from Canvas and put them in the same folder of this iPython notebook.\n",
        "\n",
        "Instructions for submission: please submit the following:\n",
        "* Completed iPython notebook. We will inspect the code and run your notebook.\n",
        "* Solutions to the corresponding problems\n",
        "\n",
        "\n"
      ]
    },
    {
      "cell_type": "markdown",
      "metadata": {
        "id": "ueIHNJ8vXNUK"
      },
      "source": [
        "## 1. The MNIST dataset\n",
        "\n",
        "`MNIST` is a classic database of handwritten digits that is commonly used for training various image processing systems. The MNIST database contains 60,000 training images and 10,000 testing images. In this notebook we will work with a subset of this data: a training set of 2,000 images and a test set of 500 images. Each image is given by 28 X 28 grayscale pixels.\n",
        "\n",
        "First, let's first load the dataset check the basic statistics.\n"
      ]
    },
    {
      "cell_type": "code",
      "execution_count": 1,
      "metadata": {
        "collapsed": true,
        "id": "PBKTLCkrXNUL"
      },
      "outputs": [],
      "source": [
        "%matplotlib inline\n",
        "import numpy as np\n",
        "import matplotlib.pyplot as plt \n",
        "import time\n",
        "import random\n",
        "from progressbar import ProgressBar"
      ]
    },
    {
      "cell_type": "code",
      "execution_count": 2,
      "metadata": {
        "id": "9fNkPYXwXNUL",
        "outputId": "d27b8279-b8d5-45aa-c6db-5eb40340d97c",
        "colab": {
          "base_uri": "https://localhost:8080/"
        }
      },
      "outputs": [
        {
          "output_type": "stream",
          "name": "stdout",
          "text": [
            "Training dataset dimensions:  (2000, 784)\n",
            "Number of training labels:  2000\n",
            "Testing dataset dimensions:  (500, 784)\n",
            "Number of testing labels:  500\n",
            "Training set distribution:\n",
            "{0: 204, 1: 219, 2: 200, 3: 209, 4: 186, 5: 194, 6: 189, 7: 200, 8: 214, 9: 185}\n",
            "Test set distribution:\n",
            "{0: 49, 1: 53, 2: 63, 3: 42, 4: 49, 5: 43, 6: 42, 7: 56, 8: 48, 9: 55}\n"
          ]
        }
      ],
      "source": [
        "## Load the training set\n",
        "# To speed up computation, we will just consider 2000 images for training and 500 images for testing\n",
        "num_trn, num_tst = 2000,500\n",
        "train_data = np.load('mnist_train_data.npy')[:num_trn,]\n",
        "train_labels = np.load('mnist_train_labels.npy')[:num_trn]\n",
        "\n",
        "## Load the testing set\n",
        "test_data = np.load('mnist_test_data.npy')[:num_tst,]\n",
        "test_labels = np.load('mnist_test_labels.npy')[:num_tst]\n",
        "\n",
        "\n",
        "## Print out their dimensions\n",
        "print(\"Training dataset dimensions: \", np.shape(train_data))\n",
        "print(\"Number of training labels: \", len(train_labels))\n",
        "print(\"Testing dataset dimensions: \", np.shape(test_data))\n",
        "print(\"Number of testing labels: \", len(test_labels))\n",
        "\n",
        "## Compute the number of examples of each digit\n",
        "train_digits, train_counts = np.unique(train_labels, return_counts=True)\n",
        "print(\"Training set distribution:\")\n",
        "print(dict(zip(train_digits, train_counts)))\n",
        "\n",
        "test_digits, test_counts = np.unique(test_labels, return_counts=True)\n",
        "print(\"Test set distribution:\")\n",
        "print(dict(zip(test_digits, test_counts)))\n",
        "\n"
      ]
    },
    {
      "cell_type": "markdown",
      "metadata": {
        "id": "PDLwDSJ3XNUM"
      },
      "source": [
        "Now, let's randomly choose 10 images from the training dataset and visualize them."
      ]
    },
    {
      "cell_type": "code",
      "execution_count": 3,
      "metadata": {
        "id": "ZcsYxs5hXNUN",
        "outputId": "e3fc2701-c2bd-4e69-eff9-bb4b6469f146",
        "colab": {
          "base_uri": "https://localhost:8080/",
          "height": 214
        }
      },
      "outputs": [
        {
          "output_type": "stream",
          "name": "stdout",
          "text": [
            "[246, 429, 1453, 575, 1174, 485, 99, 1376, 310, 1513]\n"
          ]
        },
        {
          "output_type": "display_data",
          "data": {
            "text/plain": [
              "<Figure size 432x216 with 10 Axes>"
            ],
            "image/png": "[encoded data removed]"
          },
          "metadata": {
            "needs_background": "light"
          }
        }
      ],
      "source": [
        "nrows, ncols = 2, 5\n",
        "index = random.sample(range(len(train_labels)), 10)\n",
        "print (index)\n",
        "fig, axes = plt.subplots(nrows, ncols, figsize=(6, 3))\n",
        "for i in range(nrows):\n",
        "    for j in range(ncols):\n",
        "        # Image index\n",
        "        k = j + i * ncols\n",
        "        ax = axes[i, j]\n",
        "        ax.matshow((train_data[index[k],]).reshape((28,28)),cmap=plt.cm.gray)\n",
        "        ax.set_axis_off()\n",
        "        ax.set_title(\"Label \" + str(train_labels[index[k]]))"
      ]
    },
    {
      "cell_type": "markdown",
      "metadata": {
        "id": "zD9xiEhiXNUN"
      },
      "source": [
        "## 2. KNN based on Euclidean distance\n",
        "\n",
        "Let's first experiment with _Euclidean distance_: for two vectors $x, y \\in \\mathbb{R}^d$, their Euclidean distance is defined as \n",
        "$$\\|x - y\\| = \\sqrt{\\sum_{i=1}^d (x_i - y_i)^2}.$$\n",
        "**Task P1:** Complete the following code section to calculate this distance. Copy the corresponding code to the problem set 1 solution pdf file."
      ]
    },
    {
      "cell_type": "code",
      "execution_count": 4,
      "metadata": {
        "collapsed": true,
        "id": "hIYSK4QiXNUO"
      },
      "outputs": [],
      "source": [
        "## Computes squared Euclidean distance between two vectors.\n",
        "def eucl_dist(x,y):\n",
        "    # input:\n",
        "    # x, y: vectorization of an image\n",
        "    # output:\n",
        "    # the euclidean distance between the two vectors\n",
        "    \n",
        "    ### STUDENT: YOUR CODE HERE\n",
        "    return np.linalg.norm(x-y) \n",
        "    ### CODE ENDS"
      ]
    },
    {
      "cell_type": "markdown",
      "metadata": {
        "id": "xeuzAmZyXNUO"
      },
      "source": [
        "Now, let's try to compute the distance between some randomly chosen images."
      ]
    },
    {
      "cell_type": "code",
      "execution_count": 5,
      "metadata": {
        "collapsed": true,
        "id": "WUmw2hddXNUP",
        "outputId": "1b3bab10-e881-4776-bade-4885d5497d97",
        "colab": {
          "base_uri": "https://localhost:8080/"
        }
      },
      "outputs": [
        {
          "output_type": "stream",
          "name": "stdout",
          "text": [
            "[21, 1264, 1079, 1397, 1202, 1516, 1875, 975, 329, 1291]\n",
            "Distance from 2 to 3: 2031.5292\n",
            "Distance from 7 to 7: 1944.8354\n",
            "Distance from 5 to 3: 2960.483\n",
            "Distance from 6 to 3: 2481.9517\n",
            "Distance from 6 to 0: 2790.9841\n"
          ]
        }
      ],
      "source": [
        "index = random.sample(range(len(train_labels)), 10)\n",
        "print(index)\n",
        "for i in range(5):\n",
        "    # Image index\n",
        "    k = i * 2\n",
        "    print(\"Distance from \"+str(train_labels[index[k]])+\" to \"+str(train_labels[index[k+1]])+\": \"+\n",
        "          str(eucl_dist(train_data[index[k],],train_data[index[k+1],])))"
      ]
    },
    {
      "cell_type": "markdown",
      "metadata": {
        "id": "ub-VjXijXNUP"
      },
      "source": [
        "Now, let's implement the K-nearest neighbor classification. \n",
        "\n",
        "**Task P2:** Complete the following code sections for `find_KNN` and `KNN_classifier`. Copy the corresponding code to the problem set 1 solution pdf file."
      ]
    },
    {
      "cell_type": "code",
      "execution_count": 6,
      "metadata": {
        "collapsed": true,
        "id": "ge3VjyNyXNUP"
      },
      "outputs": [],
      "source": [
        "# Take a vector x and returns the indices of its K nearest neighbors in the training set: train_data\n",
        "def find_KNN(x, train_data, train_labels, K, dist):\n",
        "    # Input: \n",
        "    # x: test point\n",
        "    # train_data: training data X\n",
        "    # train_labels: training data labels y\n",
        "    # K: number of nearest neighbors considered\n",
        "    # dist: default to be the eucl_dist that you have defined above\n",
        "    # Output:\n",
        "    # The indices of the K nearest neighbors to test point x in the training set\n",
        "    \n",
        "    ##### STUDENT: Your code here #####\n",
        "    distance = np.zeros(len(train_data))\n",
        "    # for each train_data point indexed at i,\n",
        "    # take thes the euclidian distance and array dist stores it in index i\n",
        "    #dist = [||tr[0]-x|| ||tr[1]-x|| ||tr[2]-x|| ,.., ||tr[1999]-x||]   \n",
        "    for i in range(len(train_data)):\n",
        "        distance[i] = dist(train_data[i],x)\n",
        "    #then the elements of dist are sorted in ascending way and the indexes of the first K elements are stored in m\n",
        "    m = np.argsort(distance)[:K]\n",
        "    return m\n",
        " \n",
        "    ##### END OF CODE #####"
      ]
    },
    {
      "cell_type": "markdown",
      "metadata": {
        "id": "h1o_EMBoXNUQ"
      },
      "source": [
        "Now, you should make use of the `find_KKN` function to define the KNN classifier."
      ]
    },
    {
      "cell_type": "code",
      "execution_count": 7,
      "metadata": {
        "collapsed": true,
        "id": "Mfdfy1NZXNUQ"
      },
      "outputs": [],
      "source": [
        "# KNN classification\n",
        "def KNN_classifier(x, train_data, train_labels,K,dist):\n",
        "    # Input:\n",
        "    # x: test point\n",
        "    # train_data: training data X\n",
        "    # train_labels: training data labels y\n",
        "    # K: number of nearest neighbors considered\n",
        "    # dist: default to be the eucl_dist that you have defined above\n",
        "    # Output:\n",
        "    # the predicted label of the test point\n",
        "    \n",
        "    ##### STUDENT: Your code here #####\n",
        "    # m is the array of the indexes of training data points which have the minimum distance with test point x,(in asceding order and K of them)\n",
        "    m = find_KNN(x, train_data, train_labels,K, dist)\n",
        "    #if K=2, t[0]= train_labels[m[0]]=the index of training data which has the min distance with x and t[1]=train_labels[m[1]]  \n",
        "    # so t[0] and t[1] will have different/same labels which may range from 0 to 9\n",
        "    t = np.zeros(K)\n",
        "    for i in range(K):\n",
        "        t[i] = train_labels[m[i]]\n",
        "    n = np.round(t).astype(np.int64)\n",
        "    #count holds number of occurances of elements ranging from 0 to max(t)\n",
        "    count = np.bincount(n)\n",
        "    #mod returns the element which has the most occurance = mode of the dataset = label of the data point\n",
        "    mod = np.argmax(count)\n",
        "    return mod\n",
        "    ##### END OF CODE #####"
      ]
    },
    {
      "cell_type": "markdown",
      "metadata": {
        "id": "fssxlin5XNUQ"
      },
      "source": [
        "Now, let's examine how the code works for 1-NN (i.e., with K=1)."
      ]
    },
    {
      "cell_type": "code",
      "execution_count": 8,
      "metadata": {
        "collapsed": true,
        "id": "l1D6zDpFXNUQ"
      },
      "outputs": [],
      "source": [
        "## Define a function that takes an index into a particular data set (\"train\" or \"test\") and displays that image.\n",
        "def vis_image(index, dataset=\"train\"):\n",
        "    plt.axis('off')\n",
        "    if(dataset==\"train\"): \n",
        "        plt.imshow((train_data[index,]).reshape((28,28)), cmap=plt.cm.gray)\n",
        "        label = train_labels[index]\n",
        "    else:\n",
        "        plt.imshow((test_data[index,]).reshape((28,28)), cmap=plt.cm.gray)\n",
        "        label = test_labels[index]\n",
        "    plt.show()\n",
        "    print(\"Label \" + str(label))\n",
        "    return"
      ]
    },
    {
      "cell_type": "markdown",
      "metadata": {
        "id": "z61pFz_GXNUR"
      },
      "source": [
        "**Task P3: Find one example of success case and one example of failed case for 1-NN. Print the outputs and copy them to the problem set solution file.**"
      ]
    },
    {
      "cell_type": "code",
      "execution_count": 9,
      "metadata": {
        "collapsed": true,
        "id": "FVc3mR4dXNUR",
        "outputId": "560e2a03-e81b-45b1-d3da-b6f4f68bb5ab",
        "colab": {
          "base_uri": "https://localhost:8080/",
          "height": 604
        }
      },
      "outputs": [
        {
          "output_type": "stream",
          "name": "stdout",
          "text": [
            "A success case:\n",
            "1-NN classification:  0\n",
            "True label:  0\n",
            "The test image:\n"
          ]
        },
        {
          "output_type": "display_data",
          "data": {
            "text/plain": [
              "<Figure size 432x288 with 1 Axes>"
            ],
            "image/png": "[encoded data removed]"
          },
          "metadata": {
            "needs_background": "light"
          }
        },
        {
          "output_type": "stream",
          "name": "stdout",
          "text": [
            "Label 0\n",
            "The corresponding nearest neighbor image:\n"
          ]
        },
        {
          "output_type": "display_data",
          "data": {
            "text/plain": [
              "<Figure size 432x288 with 1 Axes>"
            ],
            "image/png": "[encoded data removed]"
          },
          "metadata": {
            "needs_background": "light"
          }
        },
        {
          "output_type": "stream",
          "name": "stdout",
          "text": [
            "Label 0\n"
          ]
        }
      ],
      "source": [
        "## A success case:\n",
        "ind_success = 0  ### STUDENT: put one index of a success case here\n",
        "\n",
        "print(\"A success case:\")\n",
        "print(\"1-NN classification: \", KNN_classifier(test_data[ind_success,],train_data,train_labels,1,dist = eucl_dist))\n",
        "print(\"True label: \", test_labels[ind_success])\n",
        "print(\"The test image:\")\n",
        "vis_image(ind_success, \"test\")\n",
        "print(\"The corresponding nearest neighbor image:\")\n",
        "vis_image(find_KNN(test_data[ind_success,],train_data,train_labels,1,eucl_dist)[0], \"train\")\n",
        "\n"
      ]
    },
    {
      "cell_type": "code",
      "execution_count": 10,
      "metadata": {
        "id": "X_es-OxfXNUR",
        "outputId": "96a8624a-c7f3-4f74-b4d0-6c53c155a1f8",
        "colab": {
          "base_uri": "https://localhost:8080/"
        }
      },
      "outputs": [
        {
          "output_type": "stream",
          "name": "stdout",
          "text": [
            "24\n"
          ]
        }
      ],
      "source": [
        "## A failure cases\n",
        "# loop to find the first failure index\n",
        "# outputs 24 meaning the first misclassified index is 24.\n",
        "test_predictions = np.zeros(len(test_labels))\n",
        "for i in (range(len(test_labels))):   \n",
        "    test_predictions[i] = KNN_classifier(test_data[i,],train_data,train_labels,1,eucl_dist)\n",
        "\n",
        "for i in range(len(test_predictions)):\n",
        "    if test_predictions[i] != test_labels[i]:\n",
        "        print(i)\n",
        "        break"
      ]
    },
    {
      "cell_type": "code",
      "execution_count": 11,
      "metadata": {
        "id": "hIRUHP2BXNUR",
        "outputId": "40869e8c-1aa6-4fe3-d715-f00f8bc2f106",
        "colab": {
          "base_uri": "https://localhost:8080/",
          "height": 604
        }
      },
      "outputs": [
        {
          "output_type": "stream",
          "name": "stdout",
          "text": [
            "A failed case:\n",
            "1-NN classification:  9\n",
            "True label:  3\n",
            "The test image:\n"
          ]
        },
        {
          "output_type": "display_data",
          "data": {
            "text/plain": [
              "<Figure size 432x288 with 1 Axes>"
            ],
            "image/png": "[encoded data removed]"
          },
          "metadata": {
            "needs_background": "light"
          }
        },
        {
          "output_type": "stream",
          "name": "stdout",
          "text": [
            "Label 3\n",
            "The corresponding nearest neighbor image:\n"
          ]
        },
        {
          "output_type": "display_data",
          "data": {
            "text/plain": [
              "<Figure size 432x288 with 1 Axes>"
            ],
            "image/png": "[encoded data removed]"
          },
          "metadata": {
            "needs_background": "light"
          }
        },
        {
          "output_type": "stream",
          "name": "stdout",
          "text": [
            "Label 9\n"
          ]
        }
      ],
      "source": [
        "## A failure case:\n",
        "ind_fail = 24  ### STUDENT: put one index of a success case here\n",
        "\n",
        "print(\"A failed case:\")\n",
        "print(\"1-NN classification: \", KNN_classifier(test_data[ind_fail,],train_data,train_labels,1,eucl_dist))\n",
        "print(\"True label: \", test_labels[ind_fail])\n",
        "print(\"The test image:\")\n",
        "vis_image(ind_fail, \"test\")\n",
        "print(\"The corresponding nearest neighbor image:\")\n",
        "vis_image(find_KNN(test_data[ind_fail,],train_data,train_labels,1,eucl_dist)[0], \"train\")\n"
      ]
    },
    {
      "cell_type": "markdown",
      "metadata": {
        "id": "asOYYoQvXNUS"
      },
      "source": [
        "Now let's apply our K-nearest neighbor classifier over the full data set with `K=3`. \n",
        "\n",
        "Note that to classify each test point, our code takes a full pass over each of the 2000 training examples. The following code takes about 8 seconds on 3.3 GHz Intel Core i. \n",
        "\n",
        "**Task P4: Report the outputs of the following code and copy them to the problem set solution file.**"
      ]
    },
    {
      "cell_type": "code",
      "execution_count": 12,
      "metadata": {
        "collapsed": true,
        "id": "CIQKKhllXNUS",
        "outputId": "065e2987-9108-4c65-96bb-d5a90023cd20",
        "colab": {
          "base_uri": "https://localhost:8080/"
        }
      },
      "outputs": [
        {
          "output_type": "stream",
          "name": "stderr",
          "text": [
            "100% (500 of 500) |######################| Elapsed Time: 0:00:07 Time:  0:00:07\n"
          ]
        },
        {
          "output_type": "stream",
          "name": "stdout",
          "text": [
            "Error of nearest neighbor classifier with Euclidean distance:  0.076\n",
            "Classification time (seconds) with Euclidean distance:  7.599063158035278\n"
          ]
        }
      ],
      "source": [
        "### Predict on each test data point (and time it!)\n",
        "pbar = ProgressBar() # to show progress\n",
        "t_before = time.time()\n",
        "test_predictions = np.zeros(len(test_labels))\n",
        "for i in pbar(range(len(test_labels))):   \n",
        "    test_predictions[i] = KNN_classifier(test_data[i,],train_data,train_labels,3,eucl_dist)\n",
        "t_after = time.time()\n",
        "\n",
        "## Compute the error\n",
        "err_positions = np.not_equal(test_predictions, test_labels)\n",
        "error = float(np.sum(err_positions))/len(test_labels)\n",
        "\n",
        "print(\"Error of nearest neighbor classifier with Euclidean distance: \", error)\n",
        "print(\"Classification time (seconds) with Euclidean distance: \", t_after - t_before)\n",
        "#error_no=0\n",
        "#for i in range(len(test_predictions)):\n",
        "#    if test_predictions[i] != test_labels[i]:\n",
        "#        error_no = error_no + 1\n",
        "#        print(i)"
      ]
    },
    {
      "cell_type": "code",
      "source": [
        "# to find out the mislabeleded indexes in test set and the total number of mislabelled points\n",
        "error_no=0\n",
        "for i in range(len(test_predictions)):\n",
        "    if test_predictions[i] != test_labels[i]:\n",
        "        error_no = error_no + 1\n",
        "        print(i)"
      ],
      "metadata": {
        "colab": {
          "base_uri": "https://localhost:8080/"
        },
        "id": "g58zNdKoQHUG",
        "outputId": "619315a1-22ba-4dc8-ce04-59bbd41c9104"
      },
      "execution_count": 13,
      "outputs": [
        {
          "output_type": "stream",
          "name": "stdout",
          "text": [
            "13\n",
            "17\n",
            "24\n",
            "47\n",
            "66\n",
            "88\n",
            "132\n",
            "138\n",
            "193\n",
            "197\n",
            "227\n",
            "233\n",
            "239\n",
            "252\n",
            "256\n",
            "260\n",
            "285\n",
            "300\n",
            "316\n",
            "320\n",
            "338\n",
            "357\n",
            "372\n",
            "377\n",
            "398\n",
            "406\n",
            "409\n",
            "425\n",
            "426\n",
            "429\n",
            "437\n",
            "442\n",
            "449\n",
            "453\n",
            "460\n",
            "472\n",
            "483\n",
            "498\n"
          ]
        }
      ]
    },
    {
      "cell_type": "code",
      "source": [
        "error_no"
      ],
      "metadata": {
        "colab": {
          "base_uri": "https://localhost:8080/"
        },
        "id": "dmmuSO9SQLUW",
        "outputId": "de9ce522-0c65-4f59-b4c3-b58b57afce0c"
      },
      "execution_count": 14,
      "outputs": [
        {
          "output_type": "execute_result",
          "data": {
            "text/plain": [
              "38"
            ]
          },
          "metadata": {},
          "execution_count": 14
        }
      ]
    },
    {
      "cell_type": "markdown",
      "metadata": {
        "id": "nCyGe8NHXNUS"
      },
      "source": [
        "## 3. Different distance metrics\n",
        "\n",
        "So far, we have been using the Euclidean distance. In this section, let's try the Manhattan distance. You will also design a distance function and report the results.\n",
        "\n",
        "Recall that the Manhattan distance (a.k.a. $\\ell_1$-norm) is given by:\n",
        "$$\\|x - y\\|_1 = {\\sum_{i=1}^d |x_i - y_i|}.$$\n",
        "\n",
        "**Task P5: Complete the definition of `manh_dist` and report the outputs of the following code and copy them to the problem set solution file.**"
      ]
    },
    {
      "cell_type": "code",
      "execution_count": 15,
      "metadata": {
        "collapsed": true,
        "id": "3E54_4ReXNUS",
        "outputId": "5a5600d5-8f5a-47fe-f207-40282c44089e",
        "colab": {
          "base_uri": "https://localhost:8080/"
        }
      },
      "outputs": [
        {
          "output_type": "stream",
          "name": "stderr",
          "text": [
            "100% (500 of 500) |######################| Elapsed Time: 0:00:12 Time:  0:00:12\n"
          ]
        },
        {
          "output_type": "stream",
          "name": "stdout",
          "text": [
            "Error of nearest neighbor classifier with Manhattan distance:  0.086\n",
            "Classification time (seconds) with Manhattan distance:  12.134370803833008\n"
          ]
        }
      ],
      "source": [
        "## Computes Manhattan distance between two vectors.\n",
        "def manh_dist(x,y):\n",
        "    # input:\n",
        "    # x, y: vectorization of an image of size 28 by 28\n",
        "    # output:\n",
        "    # the distance between the two vectors\n",
        "    \n",
        "    ### STUDENT: YOUR CODE HERE\n",
        "    dist = np.sum(np.abs(np.array(x)-np.array(y))) \n",
        "    return dist\n",
        "    ### CODE ENDS\n",
        "\n",
        "pbar = ProgressBar() # to show progress\n",
        "## Predict on each test data point (and time it!)\n",
        "t_before = time.time()\n",
        "test_predictions = np.zeros(len(test_labels))\n",
        "for i in pbar(range(len(test_labels))):   \n",
        "    test_predictions[i] = KNN_classifier(test_data[i,],train_data,train_labels,3,dist = manh_dist)\n",
        "    \n",
        "t_after = time.time()\n",
        "\n",
        "## Compute the error\n",
        "err_positions = np.not_equal(test_predictions, test_labels)\n",
        "error = float(np.sum(err_positions))/len(test_labels)\n",
        "\n",
        "print(\"Error of nearest neighbor classifier with Manhattan distance: \", error)\n",
        "print(\"Classification time (seconds) with Manhattan distance: \", t_after - t_before)\n",
        "#error_no=0\n",
        "#for i in range(len(test_predictions)):\n",
        "#    if test_predictions[i] != test_labels[i]:\n",
        "#        error_no = error_no + 1\n",
        "#        print(i)\n"
      ]
    },
    {
      "cell_type": "code",
      "source": [
        "error_no=0\n",
        "for i in range(len(test_predictions)):\n",
        "    if test_predictions[i] != test_labels[i]:\n",
        "        error_no = error_no + 1\n",
        "        print(i)"
      ],
      "metadata": {
        "colab": {
          "base_uri": "https://localhost:8080/"
        },
        "id": "BDk_B2BSP5f_",
        "outputId": "d00c7423-58a3-47b4-b639-1a39fa2bf727"
      },
      "execution_count": 17,
      "outputs": [
        {
          "output_type": "stream",
          "name": "stdout",
          "text": [
            "17\n",
            "24\n",
            "47\n",
            "66\n",
            "88\n",
            "94\n",
            "132\n",
            "138\n",
            "193\n",
            "197\n",
            "227\n",
            "233\n",
            "239\n",
            "252\n",
            "256\n",
            "260\n",
            "268\n",
            "274\n",
            "285\n",
            "300\n",
            "316\n",
            "320\n",
            "326\n",
            "337\n",
            "338\n",
            "357\n",
            "362\n",
            "372\n",
            "377\n",
            "398\n",
            "406\n",
            "409\n",
            "425\n",
            "426\n",
            "429\n",
            "437\n",
            "442\n",
            "449\n",
            "453\n",
            "460\n",
            "472\n",
            "483\n",
            "498\n"
          ]
        }
      ]
    },
    {
      "cell_type": "code",
      "source": [
        "error_no"
      ],
      "metadata": {
        "colab": {
          "base_uri": "https://localhost:8080/"
        },
        "id": "JrMP4qwmQUjf",
        "outputId": "8c02b67b-bcbf-409e-a418-e68f4ac9909e"
      },
      "execution_count": 16,
      "outputs": [
        {
          "output_type": "execute_result",
          "data": {
            "text/plain": [
              "38"
            ]
          },
          "metadata": {},
          "execution_count": 16
        }
      ]
    },
    {
      "cell_type": "markdown",
      "metadata": {
        "id": "axMXV5mlXNUT"
      },
      "source": [
        "**Task P6: Define your own distance function and write down the mathematical definition. Copy the code and the result to the problem set solution file. (2 bonus point) Can you improve over the Euclidean distance?**"
      ]
    },
    {
      "cell_type": "code",
      "source": [
        "\n",
        "def minkowski_distance(x, y, p = 4):\n",
        "    x = np.array(x)\n",
        "    y = np.array(y)\n",
        "    return np.power(np.sum(np.power(np.abs(x - y), p)), 1/p)"
      ],
      "metadata": {
        "id": "gJRCWNRHhPUg"
      },
      "execution_count": 19,
      "outputs": []
    },
    {
      "cell_type": "code",
      "execution_count": 20,
      "metadata": {
        "collapsed": true,
        "id": "r8Ixg5AhXNUT",
        "outputId": "8bddd2cd-8197-477c-8878-ab5016284ce7",
        "colab": {
          "base_uri": "https://localhost:8080/"
        }
      },
      "outputs": [
        {
          "output_type": "stream",
          "name": "stderr",
          "text": [
            "100% (500 of 500) |######################| Elapsed Time: 0:00:29 Time:  0:00:29\n"
          ]
        },
        {
          "output_type": "stream",
          "name": "stdout",
          "text": [
            "Error of nearest neighbor classifier with the new distance:  0.066\n",
            "Classification time (seconds) with the new distance:  29.67167067527771\n"
          ]
        }
      ],
      "source": [
        "pbar = ProgressBar() # to show progress\n",
        "## Predict on each test data point (and time it!)\n",
        "t_before = time.time()\n",
        "test_predictions = np.zeros(len(test_labels))\n",
        "for i in pbar(range(len(test_labels))):   \n",
        "    test_predictions[i] = KNN_classifier(test_data[i,],train_data,train_labels,3,dist = minkowski_distance)\n",
        "\n",
        "t_after = time.time()\n",
        "\n",
        "## Compute the error\n",
        "err_positions = np.not_equal(test_predictions, test_labels)\n",
        "error = float(np.sum(err_positions))/len(test_labels)\n",
        "\n",
        "print(\"Error of nearest neighbor classifier with the new distance: \", error)\n",
        "print(\"Classification time (seconds) with the new distance: \", t_after - t_before)"
      ]
    },
    {
      "cell_type": "markdown",
      "metadata": {
        "id": "aR-A-ePGXNUT"
      },
      "source": [
        "## 4. Cross-validation to select K\n",
        "\n",
        "k-Fold Cross Validation (don't confuse this k with the K in KNN!) is a very useful technique to check how well a model performs when we apply it on an independent data. It is often used to flag problems caused by overfitting and selection bias. However, it brings an additional data processing load and time.\n",
        "\n",
        "<img style=\"width:500px\" src=\"K-fold-CV.png\">\n",
        "\n",
        "**Task P7: Implement the 5-fold cross validation to choose the best K (number of nearest neighbors) between 1 and 10 for KNN with Euclidean distance. Copy the code in the solution file and plot the 5-fold validation error with respect to K. Also plot the test error on the same figure. What do you observe?**"
      ]
    },
    {
      "cell_type": "code",
      "execution_count": 21,
      "metadata": {
        "collapsed": true,
        "id": "1EUQlzTuXNUT",
        "colab": {
          "base_uri": "https://localhost:8080/"
        },
        "outputId": "6f0ad0f9-68f3-45f0-d0d8-71dd0f3d11bb"
      },
      "outputs": [
        {
          "output_type": "stream",
          "name": "stdout",
          "text": [
            "k is  1 error point is 42\n",
            "k is  2 error point is 44\n",
            "k is  3 error point is 33\n",
            "k is  4 error point is 36\n",
            "k is  5 error point is 33\n",
            "k is  6 error point is 31\n",
            "k is  7 error point is 31\n",
            "k is  8 error point is 34\n",
            "k is  9 error point is 36\n",
            "k is  10 error point is 36\n"
          ]
        }
      ],
      "source": [
        "### STUDENT: YOUR CODE HERE\n",
        "\n",
        "# index array is the indexes shuffled ranging from 0 to 1999\n",
        "index_array = np.arange(0, len(train_data))\n",
        "np.random.shuffle(index_array)\n",
        "# these shuffled indices are divided into 5 equally sized segments\n",
        "folds = np.array_split(index_array, 5)\n",
        "# for this iteration folds[0] is validation set and the rest is training set\n",
        "#train_new_indices are the indices for new training set\n",
        "train_new_indices = np.concatenate((folds[1],folds[2],folds[3],folds[4]), axis = 0) \n",
        "\n",
        "#new training set and training labels are created for the 5-fold validation here\n",
        "train_new = []\n",
        "train_new_labels = []\n",
        "for j in train_new_indices:\n",
        "    train_new.append(train_data[j])\n",
        "    train_new_labels.append(train_labels[j]) \n",
        "\n",
        "#error_array0 is gonna hold the error for k = 1 to k = 10,\n",
        "#meaning error_array0[0] = error for k = 1 and error_array0[9] = error for k = 10\n",
        "error_array0=[]\n",
        "\n",
        "# for different values of nearest neighbors, and folds[0] is the validation set,\n",
        "# the model is trained with new training set train_new consisting from folds[1]...folds[4]\n",
        "# and corresponding training labels which are train_new_labels, each prediction is saved\n",
        "# to test_predictions_new[]\n",
        "for k in range(1,11):\n",
        "  test_predictions_new = np.zeros(len(folds[0]))\n",
        "  j = 0\n",
        "  for i in folds[0]:\n",
        "      x = train_data[i]\n",
        "      test_predictions_new[j] = KNN_classifier(x,train_new,train_new_labels,k,eucl_dist)\n",
        "      j = j+1\n",
        "      #print(i)\n",
        "\n",
        "# error_no is the total number of points where the prediction is not same with \n",
        "# the actual label of the test point \n",
        "  error_no=0\n",
        "  for i in range(len(test_predictions_new)):\n",
        "      if test_predictions_new[i] != train_labels[folds[0][i]]:\n",
        "          error_no = error_no + 1\n",
        "          #print(i)\n",
        " # error_array0 holds the error for each K in KNN where folds[0] is the validation set. \n",
        "  print('k is ', k, 'error point is', error_no)\n",
        "  error_array0.append(error_no/len(test_predictions_new))\n"
      ]
    },
    {
      "cell_type": "code",
      "source": [
        "import matplotlib.pyplot as plt\n",
        "K = [1,2,3,4,5,6,7,8,9,10]\n",
        "# plot the error with respect to number of K for folds[0] is the validation set\n",
        "plt.plot(K, error_array0)\n",
        "plt.xlabel('K values')\n",
        "plt.ylabel('error for folds[0] is the validation')\n",
        "plt.title('error for folds[0] with respect to each K value')\n",
        "plt.show()"
      ],
      "metadata": {
        "colab": {
          "base_uri": "https://localhost:8080/",
          "height": 295
        },
        "id": "lIi1kfNZmkzt",
        "outputId": "6099e877-5d74-4dc0-c2ce-275dd58f8f73"
      },
      "execution_count": 22,
      "outputs": [
        {
          "output_type": "display_data",
          "data": {
            "text/plain": [
              "<Figure size 432x288 with 1 Axes>"
            ],
            "image/png": "[encoded data removed]"
          },
          "metadata": {
            "needs_background": "light"
          }
        }
      ]
    },
    {
      "cell_type": "code",
      "source": [
        "#fold [1] is validation set\n",
        "\n",
        "train_new_indices = np.concatenate((folds[0],folds[2],folds[3],folds[4]), axis = 0) \n",
        "\n",
        "\n",
        "train_new = []\n",
        "train_new_labels = []\n",
        "for j in train_new_indices:\n",
        "    train_new.append(train_data[j])\n",
        "    train_new_labels.append(train_labels[j]) \n",
        "\n",
        "error_array1=[]\n",
        "\n",
        "\n",
        "for k in range(1,11):\n",
        "  test_predictions_new = np.zeros(len(folds[1]))\n",
        "  j = 0\n",
        "  for i in folds[1]:\n",
        "      x = train_data[i]\n",
        "      test_predictions_new[j] = KNN_classifier(x,train_new,train_new_labels,k,eucl_dist)\n",
        "      j = j+1\n",
        "      #print(i)\n",
        "\n",
        "\n",
        "  error_no=0\n",
        "  for i in range(len(test_predictions_new)):\n",
        "      if test_predictions_new[i] != train_labels[folds[1][i]]:\n",
        "          error_no = error_no + 1\n",
        "          #print(i)\n",
        "  # error_array1 holds the error for each K in KNN where folds[1] is the validation set. \n",
        "\n",
        "  print('k is =', k, 'error point is', error_no)\n",
        "  error_array1.append(error_no/len(test_predictions_new))"
      ],
      "metadata": {
        "colab": {
          "base_uri": "https://localhost:8080/"
        },
        "id": "vkWSeNa1MNCa",
        "outputId": "4c6d5c6a-b608-4e85-b315-c081c0e7545a"
      },
      "execution_count": 23,
      "outputs": [
        {
          "output_type": "stream",
          "name": "stdout",
          "text": [
            "k is = 1 error point is 48\n",
            "k is = 2 error point is 62\n",
            "k is = 3 error point is 52\n",
            "k is = 4 error point is 49\n",
            "k is = 5 error point is 50\n",
            "k is = 6 error point is 46\n",
            "k is = 7 error point is 47\n",
            "k is = 8 error point is 48\n",
            "k is = 9 error point is 50\n",
            "k is = 10 error point is 50\n"
          ]
        }
      ]
    },
    {
      "cell_type": "code",
      "source": [
        "#import matplotlib.pyplot as plt\n",
        "\n",
        "\n",
        "plt.plot(K, error_array1)\n",
        "plt.xlabel('K values')\n",
        "plt.ylabel('error for folds[1] is the validation set')\n",
        "plt.title('error for folds[1] is the validation set for each K value')\n",
        "plt.show()"
      ],
      "metadata": {
        "colab": {
          "base_uri": "https://localhost:8080/",
          "height": 295
        },
        "id": "BvGsSYlpoBDV",
        "outputId": "0c7c916f-4441-42bc-9c7c-0cb81f09900b"
      },
      "execution_count": 24,
      "outputs": [
        {
          "output_type": "display_data",
          "data": {
            "text/plain": [
              "<Figure size 432x288 with 1 Axes>"
            ],
            "image/png": "[encoded data removed]"
          },
          "metadata": {
            "needs_background": "light"
          }
        }
      ]
    },
    {
      "cell_type": "code",
      "source": [
        "#folds[2] is validation set\n",
        "\n",
        "\n",
        "train_new_indices = np.concatenate((folds[0],folds[1],folds[3],folds[4]), axis = 0) \n",
        "\n",
        "\n",
        "train_new = []\n",
        "train_new_labels = []\n",
        "for j in train_new_indices:\n",
        "    train_new.append(train_data[j])\n",
        "    train_new_labels.append(train_labels[j]) \n",
        "\n",
        "error_array2=[]\n",
        "\n",
        "for k in range(1,11):\n",
        "  test_predictions_new = np.zeros(len(folds[2]))\n",
        "  j = 0\n",
        "  for i in folds[2]:\n",
        "      x = train_data[i]\n",
        "      test_predictions_new[j] = KNN_classifier(x,train_new,train_new_labels,k,eucl_dist)\n",
        "      j = j+1\n",
        "      #print(i)\n",
        "\n",
        "\n",
        "  error_no=0\n",
        "  for i in range(len(test_predictions_new)):\n",
        "      if test_predictions_new[i] != train_labels[folds[2][i]]:\n",
        "          error_no = error_no + 1\n",
        "          #print(i)\n",
        "  # error_array2 holds the error for each K in KNN where folds[2] is the validation set. \n",
        "\n",
        "  print('k is =', k, 'error point is', error_no)\n",
        "  error_array2.append(error_no/len(test_predictions_new))"
      ],
      "metadata": {
        "colab": {
          "base_uri": "https://localhost:8080/"
        },
        "id": "a-pv_h9SOdDx",
        "outputId": "699cffa7-40a7-4b33-d362-37ae6f61d52e"
      },
      "execution_count": null,
      "outputs": [
        {
          "output_type": "stream",
          "name": "stdout",
          "text": [
            "k is = 1 error point is 40\n",
            "k is = 2 error point is 45\n",
            "k is = 3 error point is 41\n",
            "k is = 4 error point is 38\n"
          ]
        }
      ]
    },
    {
      "cell_type": "code",
      "source": [
        "plt.plot(K, error_array2)\n",
        "plt.xlabel('K values')\n",
        "plt.ylabel('error for folds[2] is the validation set')\n",
        "plt.title('error for folds[2] is the validation set for each K value')\n",
        "plt.show()"
      ],
      "metadata": {
        "colab": {
          "base_uri": "https://localhost:8080/",
          "height": 295
        },
        "id": "vK3VP_e8ojuU",
        "outputId": "e39f87c8-fe4b-471e-8b0b-7f06091d9ae5"
      },
      "execution_count": 31,
      "outputs": [
        {
          "output_type": "display_data",
          "data": {
            "text/plain": [
              "<Figure size 432x288 with 1 Axes>"
            ],
            "image/png": "[encoded data removed]"
          },
          "metadata": {
            "needs_background": "light"
          }
        }
      ]
    },
    {
      "cell_type": "code",
      "source": [
        "#folds[3] is validation set\n",
        "\n",
        "train_new_indices = np.concatenate((folds[0],folds[1],folds[2],folds[4]), axis = 0) \n",
        "\n",
        "\n",
        "train_new = []\n",
        "train_new_labels = []\n",
        "for j in train_new_indices:\n",
        "    train_new.append(train_data[j])\n",
        "    train_new_labels.append(train_labels[j]) \n",
        "\n",
        "error_array3=[]\n",
        "\n",
        "for k in range(1,11):\n",
        "  test_predictions_new = np.zeros(len(folds[3]))\n",
        "  j = 0\n",
        "  for i in folds[3]:\n",
        "      x = train_data[i]\n",
        "      test_predictions_new[j] = KNN_classifier(x,train_new,train_new_labels,k,eucl_dist)\n",
        "      j = j+1\n",
        "      #print(i)\n",
        "\n",
        "\n",
        "  error_no=0\n",
        "  for i in range(len(test_predictions_new)):\n",
        "      if test_predictions_new[i] != train_labels[folds[3][i]]:\n",
        "          error_no = error_no + 1\n",
        "          #print(i)\n",
        "  \n",
        "  # error_array3 holds the error for each K in KNN where folds[3] is the validation set. \n",
        "  print('k is =', k, 'error point is', error_no)\n",
        "  error_array3.append(error_no/len(test_predictions_new))"
      ],
      "metadata": {
        "colab": {
          "base_uri": "https://localhost:8080/"
        },
        "id": "6MNKiBt7PUtq",
        "outputId": "6ec418d8-bdef-4d9d-ad63-901fa76f8e42"
      },
      "execution_count": 32,
      "outputs": [
        {
          "output_type": "stream",
          "name": "stdout",
          "text": [
            "k is = 1 error point is 41\n",
            "k is = 2 error point is 49\n",
            "k is = 3 error point is 41\n",
            "k is = 4 error point is 35\n",
            "k is = 5 error point is 37\n",
            "k is = 6 error point is 41\n",
            "k is = 7 error point is 37\n",
            "k is = 8 error point is 43\n",
            "k is = 9 error point is 37\n",
            "k is = 10 error point is 38\n"
          ]
        }
      ]
    },
    {
      "cell_type": "code",
      "source": [
        "plt.plot(K, error_array3)\n",
        "plt.xlabel('K values')\n",
        "plt.ylabel('error for folds[3] is the validation set')\n",
        "plt.title('error for folds[3] is the validation set for each K value')\n",
        "plt.show()"
      ],
      "metadata": {
        "colab": {
          "base_uri": "https://localhost:8080/",
          "height": 295
        },
        "id": "lIufw4-iq1c2",
        "outputId": "b2300eb1-29d6-447c-b605-4c393df15511"
      },
      "execution_count": 33,
      "outputs": [
        {
          "output_type": "display_data",
          "data": {
            "text/plain": [
              "<Figure size 432x288 with 1 Axes>"
            ],
            "image/png": "[encoded data removed]"
          },
          "metadata": {
            "needs_background": "light"
          }
        }
      ]
    },
    {
      "cell_type": "code",
      "source": [
        "#folds[4] is validation set\n",
        "\n",
        "train_new_indices = np.concatenate((folds[0],folds[1],folds[2],folds[3]), axis = 0) \n",
        "\n",
        "\n",
        "train_new = []\n",
        "train_new_labels = []\n",
        "for j in train_new_indices:\n",
        "    train_new.append(train_data[j])\n",
        "    train_new_labels.append(train_labels[j]) \n",
        "\n",
        "error_array4=[]\n",
        "\n",
        "for k in range(1,11):\n",
        "  test_predictions_new = np.zeros(len(folds[4]))\n",
        "  j = 0\n",
        "  for i in folds[4]:\n",
        "      x = train_data[i]\n",
        "      test_predictions_new[j] = KNN_classifier(x,train_new,train_new_labels,k,eucl_dist)\n",
        "      j = j+1\n",
        "      #print(i)\n",
        "\n",
        "  error_no=0\n",
        "  for i in range(len(test_predictions_new)):\n",
        "      if test_predictions_new[i] != train_labels[folds[4][i]]:\n",
        "          error_no = error_no + 1\n",
        "          #print(i)\n",
        "  \n",
        "  # error_array4 holds the error for each K in KNN where folds[4] is the validation set. \n",
        "  print('k is =', k, 'error point is', error_no)\n",
        "  error_array4.append(error_no/len(test_predictions_new))"
      ],
      "metadata": {
        "colab": {
          "base_uri": "https://localhost:8080/"
        },
        "id": "QldML4KjPkOW",
        "outputId": "616e641c-21b2-473e-9ddd-ecb586892896"
      },
      "execution_count": 34,
      "outputs": [
        {
          "output_type": "stream",
          "name": "stdout",
          "text": [
            "k is = 1 error point is 40\n",
            "k is = 2 error point is 45\n",
            "k is = 3 error point is 38\n",
            "k is = 4 error point is 37\n",
            "k is = 5 error point is 37\n",
            "k is = 6 error point is 41\n",
            "k is = 7 error point is 40\n",
            "k is = 8 error point is 40\n",
            "k is = 9 error point is 43\n",
            "k is = 10 error point is 47\n"
          ]
        }
      ]
    },
    {
      "cell_type": "code",
      "source": [
        "plt.plot(K, error_array4)\n",
        "plt.xlabel('K values')\n",
        "plt.ylabel('error for folds[4] is the validation set')\n",
        "plt.title('error for folds[4] is the validation set for each K value')\n",
        "plt.show()"
      ],
      "metadata": {
        "colab": {
          "base_uri": "https://localhost:8080/",
          "height": 295
        },
        "id": "rc3NQxM3rDBX",
        "outputId": "99b101f7-c059-444e-85b0-1fafe946432b"
      },
      "execution_count": 35,
      "outputs": [
        {
          "output_type": "display_data",
          "data": {
            "text/plain": [
              "<Figure size 432x288 with 1 Axes>"
            ],
            "image/png": "[encoded data removed]"
          },
          "metadata": {
            "needs_background": "light"
          }
        }
      ]
    },
    {
      "cell_type": "code",
      "source": [
        "# the average 5-folds error \n",
        "error_average=[]\n",
        "for i in range(10):\n",
        "  av= (error_array0[i] + error_array1[i] + error_array2[i] + error_array3[i] + error_array4[i])/5\n",
        "  error_average.append(av)\n"
      ],
      "metadata": {
        "id": "sCAaDWG7RFQu"
      },
      "execution_count": 36,
      "outputs": []
    },
    {
      "cell_type": "code",
      "source": [
        "error_average"
      ],
      "metadata": {
        "colab": {
          "base_uri": "https://localhost:8080/"
        },
        "id": "RFIxWqSuUf6T",
        "outputId": "c55d5fb7-8824-4859-ab86-85a3978a719a"
      },
      "execution_count": 37,
      "outputs": [
        {
          "output_type": "execute_result",
          "data": {
            "text/plain": [
              "[0.1095,\n",
              " 0.1325,\n",
              " 0.1035,\n",
              " 0.099,\n",
              " 0.0995,\n",
              " 0.10499999999999998,\n",
              " 0.10300000000000001,\n",
              " 0.1065,\n",
              " 0.10650000000000001,\n",
              " 0.11299999999999999]"
            ]
          },
          "metadata": {},
          "execution_count": 37
        }
      ]
    },
    {
      "cell_type": "code",
      "source": [
        "K = [1,2,3,4,5,6,7,8,9,10]"
      ],
      "metadata": {
        "id": "mBgUAq1JUxs0"
      },
      "execution_count": 38,
      "outputs": []
    },
    {
      "cell_type": "code",
      "source": [
        "#import matplotlib.pyplot as plt\n",
        "\n",
        "\n",
        "plt.plot(K, error_average)\n",
        "plt.xlabel('K values')\n",
        "plt.ylabel('average 5-fold validation error')\n",
        "plt.title('5-fold validation error for each K value')\n",
        "plt.show()"
      ],
      "metadata": {
        "colab": {
          "base_uri": "https://localhost:8080/",
          "height": 295
        },
        "id": "dv6Ub5kTU2kQ",
        "outputId": "c31cd0a7-ecf3-437f-c6f2-c54fa20de468"
      },
      "execution_count": 39,
      "outputs": [
        {
          "output_type": "display_data",
          "data": {
            "text/plain": [
              "<Figure size 432x288 with 1 Axes>"
            ],
            "image/png": "[encoded data removed]"
          },
          "metadata": {
            "needs_background": "light"
          }
        }
      ]
    },
    {
      "cell_type": "code",
      "source": [
        "\n",
        "#test set is used for different k's \n",
        "\n",
        "error_test = []\n",
        "for k in range(1,11):\n",
        "  test_predictions_new = np.zeros(len(test_labels))\n",
        "  j = 0\n",
        "  for i in test_data:\n",
        "      test_predictions[j] = KNN_classifier(i,train_data,train_labels,k,eucl_dist)\n",
        "      j = j+1\n",
        "      #print(i)\n",
        "\n",
        "  error_no=0\n",
        "  for i in range(len(test_predictions)):\n",
        "      if test_predictions[i] != test_labels[i]:\n",
        "          error_no = error_no + 1\n",
        "          #print(i)\n",
        "  \n",
        "  print('k is =', k, 'error point is', error_no)\n",
        "  error_test.append(error_no/len(test_predictions))\n"
      ],
      "metadata": {
        "colab": {
          "base_uri": "https://localhost:8080/"
        },
        "id": "lom9FwAyVMix",
        "outputId": "10e269e2-5750-4183-857d-1a57359531c0"
      },
      "execution_count": 40,
      "outputs": [
        {
          "output_type": "stream",
          "name": "stdout",
          "text": [
            "k is = 1 error point is 45\n",
            "k is = 2 error point is 52\n",
            "k is = 3 error point is 38\n",
            "k is = 4 error point is 38\n",
            "k is = 5 error point is 38\n",
            "k is = 6 error point is 37\n",
            "k is = 7 error point is 39\n",
            "k is = 8 error point is 36\n",
            "k is = 9 error point is 38\n",
            "k is = 10 error point is 38\n"
          ]
        }
      ]
    },
    {
      "cell_type": "code",
      "source": [
        "#test error is plotted for each k\n",
        "plt.plot(K, error_test)\n",
        "plt.xlabel('K values')\n",
        "plt.ylabel('test error')\n",
        "plt.title('test error for each K value')\n",
        "plt.show()"
      ],
      "metadata": {
        "colab": {
          "base_uri": "https://localhost:8080/",
          "height": 295
        },
        "id": "Dgb4r3acsKbW",
        "outputId": "3fb3a5c9-888f-49ce-8d9e-9c0f2c2b148b"
      },
      "execution_count": 41,
      "outputs": [
        {
          "output_type": "display_data",
          "data": {
            "text/plain": [
              "<Figure size 432x288 with 1 Axes>"
            ],
            "image/png": "[encoded data removed]"
          },
          "metadata": {
            "needs_background": "light"
          }
        }
      ]
    },
    {
      "cell_type": "code",
      "source": [
        "# plot the average 5 fold validation error and test error on same graph\n",
        "fig, ax = plt.subplots()\n",
        "ax.plot(K, error_average , label='average 5 fold validation error')\n",
        "ax.plot(K, error_test , label='test error')\n",
        "ax.set_xlabel('K values')\n",
        "ax.set_ylabel('error')\n",
        "\n",
        "ax.legend()\n",
        "\n",
        "plt.show()"
      ],
      "metadata": {
        "colab": {
          "base_uri": "https://localhost:8080/",
          "height": 279
        },
        "id": "DE9Uwl7byNfG",
        "outputId": "b79858fb-2359-46b0-b2f5-06f0378f150b"
      },
      "execution_count": 44,
      "outputs": [
        {
          "output_type": "display_data",
          "data": {
            "text/plain": [
              "<Figure size 432x288 with 1 Axes>"
            ],
            "image/png": "[encoded data removed]"
          },
          "metadata": {
            "needs_background": "light"
          }
        }
      ]
    },
    {
      "cell_type": "markdown",
      "metadata": {
        "id": "t1dQy2WmXNUU"
      },
      "source": [
        "Congratulations! You have just implemented the KNN algorithm and tested it on the MNIST dataset!"
      ]
    }
  ],
  "metadata": {
    "kernelspec": {
      "display_name": "Python 3",
      "language": "python",
      "name": "python3"
    },
    "language_info": {
      "codemirror_mode": {
        "name": "ipython",
        "version": 3
      },
      "file_extension": ".py",
      "mimetype": "text/x-python",
      "name": "python",
      "nbconvert_exporter": "python",
      "pygments_lexer": "ipython3",
      "version": "3.11.1 (tags/v3.11.1:a7a450f, Dec  6 2022, 19:58:39) [MSC v.1934 64 bit (AMD64)]"
    },
    "vscode": {
      "interpreter": {
        "hash": "b37f6842cfa5693682ca177646b86562e7e6680399d6aa97975ae5063d95e764"
      }
    },
    "colab": {
      "provenance": []
    }
  },
  "nbformat": 4,
  "nbformat_minor": 0
}